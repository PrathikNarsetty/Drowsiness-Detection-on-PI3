{
 "cells": [
  {
   "cell_type": "markdown",
   "id": "db672398-02b8-4503-94e3-a0fe61e7f92a",
   "metadata": {},
   "source": [
    "# Drowsiness Detection"
   ]
  },
  {
   "cell_type": "markdown",
   "id": "ca894103-687d-4a07-a185-88fd7e22b27c",
   "metadata": {
    "jp-MarkdownHeadingCollapsed": true
   },
   "source": [
    "## Dependencies"
   ]
  },
  {
   "cell_type": "code",
   "execution_count": 3,
   "id": "b8762bdb-0a7c-45f1-bb32-fdaed66089ef",
   "metadata": {},
   "outputs": [
    {
     "name": "stdout",
     "output_type": "stream",
     "text": [
      "Requirement already satisfied: torch in c:\\users\\prath\\appdata\\local\\programs\\python\\python310\\lib\\site-packages (2.7.1)\n",
      "Requirement already satisfied: torchvision in c:\\users\\prath\\appdata\\local\\programs\\python\\python310\\lib\\site-packages (0.22.1)\n",
      "Requirement already satisfied: torchaudio in c:\\users\\prath\\appdata\\local\\programs\\python\\python310\\lib\\site-packages (2.7.1)\n",
      "Requirement already satisfied: filelock in c:\\users\\prath\\appdata\\local\\programs\\python\\python310\\lib\\site-packages (from torch) (3.18.0)\n",
      "Requirement already satisfied: typing-extensions>=4.10.0 in c:\\users\\prath\\appdata\\local\\programs\\python\\python310\\lib\\site-packages (from torch) (4.14.1)\n",
      "Requirement already satisfied: sympy>=1.13.3 in c:\\users\\prath\\appdata\\local\\programs\\python\\python310\\lib\\site-packages (from torch) (1.14.0)\n",
      "Requirement already satisfied: networkx in c:\\users\\prath\\appdata\\local\\programs\\python\\python310\\lib\\site-packages (from torch) (3.4.2)\n",
      "Requirement already satisfied: jinja2 in c:\\users\\prath\\appdata\\local\\programs\\python\\python310\\lib\\site-packages (from torch) (3.1.6)\n",
      "Requirement already satisfied: fsspec in c:\\users\\prath\\appdata\\local\\programs\\python\\python310\\lib\\site-packages (from torch) (2025.7.0)\n",
      "Requirement already satisfied: numpy in c:\\users\\prath\\appdata\\local\\programs\\python\\python310\\lib\\site-packages (from torchvision) (2.1.3)\n",
      "Requirement already satisfied: pillow!=8.3.*,>=5.3.0 in c:\\users\\prath\\appdata\\local\\programs\\python\\python310\\lib\\site-packages (from torchvision) (11.3.0)\n",
      "Requirement already satisfied: mpmath<1.4,>=1.1.0 in c:\\users\\prath\\appdata\\local\\programs\\python\\python310\\lib\\site-packages (from sympy>=1.13.3->torch) (1.3.0)\n",
      "Requirement already satisfied: MarkupSafe>=2.0 in c:\\users\\prath\\appdata\\local\\programs\\python\\python310\\lib\\site-packages (from jinja2->torch) (3.0.2)\n",
      "Note: you may need to restart the kernel to use updated packages.\n"
     ]
    }
   ],
   "source": [
    "%pip install torch torchvision torchaudio"
   ]
  },
  {
   "cell_type": "code",
   "execution_count": 31,
   "id": "aa2f90cb-2b80-44d5-837e-254513cfcb90",
   "metadata": {},
   "outputs": [],
   "source": [
    "import warnings\n",
    "warnings.filterwarnings('ignore')"
   ]
  },
  {
   "cell_type": "code",
   "execution_count": 6,
   "id": "3a1dd99b-fbac-4edd-8e6b-eef3bf4a76c3",
   "metadata": {},
   "outputs": [
    {
     "name": "stderr",
     "output_type": "stream",
     "text": [
      "Cloning into 'yolov5'...\n"
     ]
    }
   ],
   "source": [
    "!git clone https://github.com/ultralytics/yolov5"
   ]
  },
  {
   "cell_type": "code",
   "execution_count": 12,
   "id": "7aa0fef2-e2b6-4b5d-aaac-4dce5c32d5dc",
   "metadata": {},
   "outputs": [
    {
     "name": "stdout",
     "output_type": "stream",
     "text": [
      "Collecting gitpython>=3.1.30 (from -r requirements.txt (line 5))\n",
      "  Downloading GitPython-3.1.44-py3-none-any.whl.metadata (13 kB)\n",
      "Requirement already satisfied: matplotlib>=3.3 in c:\\users\\prath\\appdata\\local\\programs\\python\\python310\\lib\\site-packages (from -r requirements.txt (line 6)) (3.10.3)\n",
      "Requirement already satisfied: numpy>=1.23.5 in c:\\users\\prath\\appdata\\local\\programs\\python\\python310\\lib\\site-packages (from -r requirements.txt (line 7)) (2.1.3)\n",
      "Requirement already satisfied: opencv-python>=4.1.1 in c:\\users\\prath\\appdata\\local\\programs\\python\\python310\\lib\\site-packages (from -r requirements.txt (line 8)) (4.12.0.88)\n",
      "Requirement already satisfied: pillow>=10.3.0 in c:\\users\\prath\\appdata\\local\\programs\\python\\python310\\lib\\site-packages (from -r requirements.txt (line 9)) (11.3.0)\n",
      "Requirement already satisfied: psutil in c:\\users\\prath\\appdata\\local\\programs\\python\\python310\\lib\\site-packages (from -r requirements.txt (line 10)) (7.0.0)\n",
      "Requirement already satisfied: PyYAML>=5.3.1 in c:\\users\\prath\\appdata\\local\\programs\\python\\python310\\lib\\site-packages (from -r requirements.txt (line 11)) (6.0.2)\n",
      "Requirement already satisfied: requests>=2.32.2 in c:\\users\\prath\\appdata\\local\\programs\\python\\python310\\lib\\site-packages (from -r requirements.txt (line 12)) (2.32.4)\n",
      "Requirement already satisfied: scipy>=1.4.1 in c:\\users\\prath\\appdata\\local\\programs\\python\\python310\\lib\\site-packages (from -r requirements.txt (line 13)) (1.15.3)\n",
      "Collecting thop>=0.1.1 (from -r requirements.txt (line 14))\n",
      "  Downloading thop-0.1.1.post2209072238-py3-none-any.whl.metadata (2.7 kB)\n",
      "Requirement already satisfied: torch>=1.8.0 in c:\\users\\prath\\appdata\\local\\programs\\python\\python310\\lib\\site-packages (from -r requirements.txt (line 15)) (2.7.1)\n",
      "Requirement already satisfied: torchvision>=0.9.0 in c:\\users\\prath\\appdata\\local\\programs\\python\\python310\\lib\\site-packages (from -r requirements.txt (line 16)) (0.22.1)\n",
      "Requirement already satisfied: tqdm>=4.66.3 in c:\\users\\prath\\appdata\\local\\programs\\python\\python310\\lib\\site-packages (from -r requirements.txt (line 17)) (4.67.1)\n",
      "Requirement already satisfied: ultralytics>=8.2.64 in c:\\users\\prath\\appdata\\local\\programs\\python\\python310\\lib\\site-packages (from -r requirements.txt (line 18)) (8.3.167)\n",
      "Requirement already satisfied: pandas>=1.1.4 in c:\\users\\prath\\appdata\\local\\programs\\python\\python310\\lib\\site-packages (from -r requirements.txt (line 27)) (2.3.1)\n",
      "Collecting seaborn>=0.11.0 (from -r requirements.txt (line 28))\n",
      "  Downloading seaborn-0.13.2-py3-none-any.whl.metadata (5.4 kB)\n",
      "Collecting setuptools>=70.0.0 (from -r requirements.txt (line 42))\n",
      "  Using cached setuptools-80.9.0-py3-none-any.whl.metadata (6.6 kB)\n",
      "Collecting gitdb<5,>=4.0.1 (from gitpython>=3.1.30->-r requirements.txt (line 5))\n",
      "  Downloading gitdb-4.0.12-py3-none-any.whl.metadata (1.2 kB)\n",
      "Collecting smmap<6,>=3.0.1 (from gitdb<5,>=4.0.1->gitpython>=3.1.30->-r requirements.txt (line 5))\n",
      "  Downloading smmap-5.0.2-py3-none-any.whl.metadata (4.3 kB)\n",
      "Requirement already satisfied: contourpy>=1.0.1 in c:\\users\\prath\\appdata\\local\\programs\\python\\python310\\lib\\site-packages (from matplotlib>=3.3->-r requirements.txt (line 6)) (1.3.2)\n",
      "Requirement already satisfied: cycler>=0.10 in c:\\users\\prath\\appdata\\local\\programs\\python\\python310\\lib\\site-packages (from matplotlib>=3.3->-r requirements.txt (line 6)) (0.12.1)\n",
      "Requirement already satisfied: fonttools>=4.22.0 in c:\\users\\prath\\appdata\\local\\programs\\python\\python310\\lib\\site-packages (from matplotlib>=3.3->-r requirements.txt (line 6)) (4.58.5)\n",
      "Requirement already satisfied: kiwisolver>=1.3.1 in c:\\users\\prath\\appdata\\local\\programs\\python\\python310\\lib\\site-packages (from matplotlib>=3.3->-r requirements.txt (line 6)) (1.4.8)\n",
      "Requirement already satisfied: packaging>=20.0 in c:\\users\\prath\\appdata\\local\\programs\\python\\python310\\lib\\site-packages (from matplotlib>=3.3->-r requirements.txt (line 6)) (25.0)\n",
      "Requirement already satisfied: pyparsing>=2.3.1 in c:\\users\\prath\\appdata\\local\\programs\\python\\python310\\lib\\site-packages (from matplotlib>=3.3->-r requirements.txt (line 6)) (3.2.3)\n",
      "Requirement already satisfied: python-dateutil>=2.7 in c:\\users\\prath\\appdata\\local\\programs\\python\\python310\\lib\\site-packages (from matplotlib>=3.3->-r requirements.txt (line 6)) (2.9.0.post0)\n",
      "Requirement already satisfied: charset_normalizer<4,>=2 in c:\\users\\prath\\appdata\\local\\programs\\python\\python310\\lib\\site-packages (from requests>=2.32.2->-r requirements.txt (line 12)) (3.4.2)\n",
      "Requirement already satisfied: idna<4,>=2.5 in c:\\users\\prath\\appdata\\local\\programs\\python\\python310\\lib\\site-packages (from requests>=2.32.2->-r requirements.txt (line 12)) (3.10)\n",
      "Requirement already satisfied: urllib3<3,>=1.21.1 in c:\\users\\prath\\appdata\\local\\programs\\python\\python310\\lib\\site-packages (from requests>=2.32.2->-r requirements.txt (line 12)) (2.5.0)\n",
      "Requirement already satisfied: certifi>=2017.4.17 in c:\\users\\prath\\appdata\\local\\programs\\python\\python310\\lib\\site-packages (from requests>=2.32.2->-r requirements.txt (line 12)) (2025.7.14)\n",
      "Requirement already satisfied: filelock in c:\\users\\prath\\appdata\\local\\programs\\python\\python310\\lib\\site-packages (from torch>=1.8.0->-r requirements.txt (line 15)) (3.18.0)\n",
      "Requirement already satisfied: typing-extensions>=4.10.0 in c:\\users\\prath\\appdata\\local\\programs\\python\\python310\\lib\\site-packages (from torch>=1.8.0->-r requirements.txt (line 15)) (4.14.1)\n",
      "Requirement already satisfied: sympy>=1.13.3 in c:\\users\\prath\\appdata\\local\\programs\\python\\python310\\lib\\site-packages (from torch>=1.8.0->-r requirements.txt (line 15)) (1.14.0)\n",
      "Requirement already satisfied: networkx in c:\\users\\prath\\appdata\\local\\programs\\python\\python310\\lib\\site-packages (from torch>=1.8.0->-r requirements.txt (line 15)) (3.4.2)\n",
      "Requirement already satisfied: jinja2 in c:\\users\\prath\\appdata\\local\\programs\\python\\python310\\lib\\site-packages (from torch>=1.8.0->-r requirements.txt (line 15)) (3.1.6)\n",
      "Requirement already satisfied: fsspec in c:\\users\\prath\\appdata\\local\\programs\\python\\python310\\lib\\site-packages (from torch>=1.8.0->-r requirements.txt (line 15)) (2025.7.0)\n",
      "Requirement already satisfied: colorama in c:\\users\\prath\\appdata\\local\\programs\\python\\python310\\lib\\site-packages (from tqdm>=4.66.3->-r requirements.txt (line 17)) (0.4.6)\n",
      "Requirement already satisfied: py-cpuinfo in c:\\users\\prath\\appdata\\local\\programs\\python\\python310\\lib\\site-packages (from ultralytics>=8.2.64->-r requirements.txt (line 18)) (9.0.0)\n",
      "Requirement already satisfied: ultralytics-thop>=2.0.0 in c:\\users\\prath\\appdata\\local\\programs\\python\\python310\\lib\\site-packages (from ultralytics>=8.2.64->-r requirements.txt (line 18)) (2.0.14)\n",
      "Requirement already satisfied: pytz>=2020.1 in c:\\users\\prath\\appdata\\local\\programs\\python\\python310\\lib\\site-packages (from pandas>=1.1.4->-r requirements.txt (line 27)) (2025.2)\n",
      "Requirement already satisfied: tzdata>=2022.7 in c:\\users\\prath\\appdata\\local\\programs\\python\\python310\\lib\\site-packages (from pandas>=1.1.4->-r requirements.txt (line 27)) (2025.2)\n",
      "Requirement already satisfied: six>=1.5 in c:\\users\\prath\\appdata\\local\\programs\\python\\python310\\lib\\site-packages (from python-dateutil>=2.7->matplotlib>=3.3->-r requirements.txt (line 6)) (1.17.0)\n",
      "Requirement already satisfied: mpmath<1.4,>=1.1.0 in c:\\users\\prath\\appdata\\local\\programs\\python\\python310\\lib\\site-packages (from sympy>=1.13.3->torch>=1.8.0->-r requirements.txt (line 15)) (1.3.0)\n",
      "Requirement already satisfied: MarkupSafe>=2.0 in c:\\users\\prath\\appdata\\local\\programs\\python\\python310\\lib\\site-packages (from jinja2->torch>=1.8.0->-r requirements.txt (line 15)) (3.0.2)\n",
      "Downloading GitPython-3.1.44-py3-none-any.whl (207 kB)\n",
      "Downloading gitdb-4.0.12-py3-none-any.whl (62 kB)\n",
      "Downloading smmap-5.0.2-py3-none-any.whl (24 kB)\n",
      "Downloading thop-0.1.1.post2209072238-py3-none-any.whl (15 kB)\n",
      "Downloading seaborn-0.13.2-py3-none-any.whl (294 kB)\n",
      "Using cached setuptools-80.9.0-py3-none-any.whl (1.2 MB)\n",
      "Installing collected packages: smmap, setuptools, gitdb, thop, seaborn, gitpython\n",
      "\n",
      "   ---------------------------------------- 0/6 [smmap]\n",
      "  Attempting uninstall: setuptools\n",
      "   ---------------------------------------- 0/6 [smmap]\n",
      "    Found existing installation: setuptools 65.5.0\n",
      "   ---------------------------------------- 0/6 [smmap]\n",
      "   ------ --------------------------------- 1/6 [setuptools]\n",
      "   ------ --------------------------------- 1/6 [setuptools]\n",
      "    Uninstalling setuptools-65.5.0:\n",
      "   ------ --------------------------------- 1/6 [setuptools]\n",
      "   ------ --------------------------------- 1/6 [setuptools]\n",
      "   ------ --------------------------------- 1/6 [setuptools]\n",
      "   ------ --------------------------------- 1/6 [setuptools]\n",
      "   ------ --------------------------------- 1/6 [setuptools]\n",
      "   ------ --------------------------------- 1/6 [setuptools]\n",
      "   ------ --------------------------------- 1/6 [setuptools]\n",
      "   ------ --------------------------------- 1/6 [setuptools]\n",
      "   ------ --------------------------------- 1/6 [setuptools]\n",
      "   ------ --------------------------------- 1/6 [setuptools]\n",
      "   ------ --------------------------------- 1/6 [setuptools]\n",
      "   ------ --------------------------------- 1/6 [setuptools]\n",
      "   ------ --------------------------------- 1/6 [setuptools]\n",
      "   ------ --------------------------------- 1/6 [setuptools]\n",
      "   ------ --------------------------------- 1/6 [setuptools]\n",
      "   ------ --------------------------------- 1/6 [setuptools]\n",
      "   ------ --------------------------------- 1/6 [setuptools]\n",
      "   ------ --------------------------------- 1/6 [setuptools]\n",
      "   ------ --------------------------------- 1/6 [setuptools]\n",
      "   ------ --------------------------------- 1/6 [setuptools]\n",
      "   ------ --------------------------------- 1/6 [setuptools]\n",
      "   ------ --------------------------------- 1/6 [setuptools]\n",
      "   ------ --------------------------------- 1/6 [setuptools]\n",
      "   ------ --------------------------------- 1/6 [setuptools]\n",
      "   ------ --------------------------------- 1/6 [setuptools]\n",
      "   ------ --------------------------------- 1/6 [setuptools]\n",
      "   ------ --------------------------------- 1/6 [setuptools]\n",
      "   ------ --------------------------------- 1/6 [setuptools]\n",
      "   ------ --------------------------------- 1/6 [setuptools]\n",
      "   ------ --------------------------------- 1/6 [setuptools]\n",
      "   ------ --------------------------------- 1/6 [setuptools]\n",
      "   ------ --------------------------------- 1/6 [setuptools]\n",
      "   ------ --------------------------------- 1/6 [setuptools]\n",
      "   ------ --------------------------------- 1/6 [setuptools]\n",
      "   ------ --------------------------------- 1/6 [setuptools]\n",
      "   ------ --------------------------------- 1/6 [setuptools]\n",
      "   ------ --------------------------------- 1/6 [setuptools]\n",
      "   ------ --------------------------------- 1/6 [setuptools]\n",
      "   ------ --------------------------------- 1/6 [setuptools]\n",
      "   ------ --------------------------------- 1/6 [setuptools]\n",
      "   ------ --------------------------------- 1/6 [setuptools]\n",
      "   ------ --------------------------------- 1/6 [setuptools]\n",
      "   ------ --------------------------------- 1/6 [setuptools]\n",
      "   ------ --------------------------------- 1/6 [setuptools]\n",
      "   ------ --------------------------------- 1/6 [setuptools]\n",
      "   ------ --------------------------------- 1/6 [setuptools]\n",
      "   ------ --------------------------------- 1/6 [setuptools]\n",
      "   ------ --------------------------------- 1/6 [setuptools]\n",
      "   ------ --------------------------------- 1/6 [setuptools]\n",
      "   ------ --------------------------------- 1/6 [setuptools]\n",
      "   ------ --------------------------------- 1/6 [setuptools]\n",
      "   ------ --------------------------------- 1/6 [setuptools]\n",
      "   ------ --------------------------------- 1/6 [setuptools]\n",
      "   ------ --------------------------------- 1/6 [setuptools]\n",
      "   ------ --------------------------------- 1/6 [setuptools]\n",
      "   ------ --------------------------------- 1/6 [setuptools]\n",
      "   ------ --------------------------------- 1/6 [setuptools]\n",
      "   ------ --------------------------------- 1/6 [setuptools]\n",
      "   ------ --------------------------------- 1/6 [setuptools]\n",
      "   ------ --------------------------------- 1/6 [setuptools]\n",
      "   ------ --------------------------------- 1/6 [setuptools]\n",
      "   ------ --------------------------------- 1/6 [setuptools]\n",
      "   ------ --------------------------------- 1/6 [setuptools]\n",
      "   ------ --------------------------------- 1/6 [setuptools]\n",
      "   ------ --------------------------------- 1/6 [setuptools]\n",
      "   ------ --------------------------------- 1/6 [setuptools]\n",
      "      Successfully uninstalled setuptools-65.5.0\n",
      "   ------ --------------------------------- 1/6 [setuptools]\n",
      "   ------ --------------------------------- 1/6 [setuptools]\n",
      "   ------ --------------------------------- 1/6 [setuptools]\n",
      "   ------ --------------------------------- 1/6 [setuptools]\n",
      "   ------ --------------------------------- 1/6 [setuptools]\n",
      "   ------ --------------------------------- 1/6 [setuptools]\n",
      "   ------ --------------------------------- 1/6 [setuptools]\n",
      "   ------ --------------------------------- 1/6 [setuptools]\n",
      "   ------ --------------------------------- 1/6 [setuptools]\n",
      "   ------ --------------------------------- 1/6 [setuptools]\n",
      "   ------ --------------------------------- 1/6 [setuptools]\n",
      "   ------ --------------------------------- 1/6 [setuptools]\n",
      "   ------ --------------------------------- 1/6 [setuptools]\n",
      "   ------ --------------------------------- 1/6 [setuptools]\n",
      "   ------ --------------------------------- 1/6 [setuptools]\n",
      "   ------ --------------------------------- 1/6 [setuptools]\n",
      "   ------ --------------------------------- 1/6 [setuptools]\n",
      "   ------ --------------------------------- 1/6 [setuptools]\n",
      "   ------ --------------------------------- 1/6 [setuptools]\n",
      "   ------ --------------------------------- 1/6 [setuptools]\n",
      "   ------ --------------------------------- 1/6 [setuptools]\n",
      "   ------ --------------------------------- 1/6 [setuptools]\n",
      "   ------ --------------------------------- 1/6 [setuptools]\n",
      "   ------ --------------------------------- 1/6 [setuptools]\n",
      "   ------ --------------------------------- 1/6 [setuptools]\n",
      "   ------ --------------------------------- 1/6 [setuptools]\n",
      "   ------ --------------------------------- 1/6 [setuptools]\n",
      "   ------ --------------------------------- 1/6 [setuptools]\n",
      "   ------ --------------------------------- 1/6 [setuptools]\n",
      "   ------ --------------------------------- 1/6 [setuptools]\n",
      "   ------ --------------------------------- 1/6 [setuptools]\n",
      "   ------ --------------------------------- 1/6 [setuptools]\n",
      "   ------ --------------------------------- 1/6 [setuptools]\n",
      "   ------ --------------------------------- 1/6 [setuptools]\n",
      "   ------ --------------------------------- 1/6 [setuptools]\n",
      "   ------ --------------------------------- 1/6 [setuptools]\n",
      "   ------ --------------------------------- 1/6 [setuptools]\n",
      "   ------ --------------------------------- 1/6 [setuptools]\n",
      "   ------ --------------------------------- 1/6 [setuptools]\n",
      "   ------ --------------------------------- 1/6 [setuptools]\n",
      "   ------ --------------------------------- 1/6 [setuptools]\n",
      "   ------ --------------------------------- 1/6 [setuptools]\n",
      "   ------ --------------------------------- 1/6 [setuptools]\n",
      "   ------ --------------------------------- 1/6 [setuptools]\n",
      "   ------ --------------------------------- 1/6 [setuptools]\n",
      "   ------ --------------------------------- 1/6 [setuptools]\n",
      "   ------ --------------------------------- 1/6 [setuptools]\n",
      "   ------ --------------------------------- 1/6 [setuptools]\n",
      "   ------ --------------------------------- 1/6 [setuptools]\n",
      "   ------ --------------------------------- 1/6 [setuptools]\n",
      "   ------ --------------------------------- 1/6 [setuptools]\n",
      "   ------ --------------------------------- 1/6 [setuptools]\n",
      "   ------ --------------------------------- 1/6 [setuptools]\n",
      "   ------ --------------------------------- 1/6 [setuptools]\n",
      "   ------ --------------------------------- 1/6 [setuptools]\n",
      "   ------ --------------------------------- 1/6 [setuptools]\n",
      "   ------ --------------------------------- 1/6 [setuptools]\n",
      "   ------ --------------------------------- 1/6 [setuptools]\n",
      "   ------ --------------------------------- 1/6 [setuptools]\n",
      "   ------ --------------------------------- 1/6 [setuptools]\n",
      "   ------ --------------------------------- 1/6 [setuptools]\n",
      "   ------ --------------------------------- 1/6 [setuptools]\n",
      "   ------ --------------------------------- 1/6 [setuptools]\n",
      "   ------ --------------------------------- 1/6 [setuptools]\n",
      "   ------ --------------------------------- 1/6 [setuptools]\n",
      "   ------ --------------------------------- 1/6 [setuptools]\n",
      "   ------ --------------------------------- 1/6 [setuptools]\n",
      "   ------ --------------------------------- 1/6 [setuptools]\n",
      "   ------ --------------------------------- 1/6 [setuptools]\n",
      "   ------ --------------------------------- 1/6 [setuptools]\n",
      "   ------ --------------------------------- 1/6 [setuptools]\n",
      "   ------ --------------------------------- 1/6 [setuptools]\n",
      "   ------ --------------------------------- 1/6 [setuptools]\n",
      "   ------ --------------------------------- 1/6 [setuptools]\n",
      "   ------ --------------------------------- 1/6 [setuptools]\n",
      "   ------ --------------------------------- 1/6 [setuptools]\n",
      "   ------ --------------------------------- 1/6 [setuptools]\n",
      "   ------ --------------------------------- 1/6 [setuptools]\n",
      "   ------ --------------------------------- 1/6 [setuptools]\n",
      "   ------ --------------------------------- 1/6 [setuptools]\n",
      "   ------ --------------------------------- 1/6 [setuptools]\n",
      "   ------ --------------------------------- 1/6 [setuptools]\n",
      "   ------ --------------------------------- 1/6 [setuptools]\n",
      "   ------ --------------------------------- 1/6 [setuptools]\n",
      "   ------ --------------------------------- 1/6 [setuptools]\n",
      "   ------ --------------------------------- 1/6 [setuptools]\n",
      "   ------ --------------------------------- 1/6 [setuptools]\n",
      "   ------ --------------------------------- 1/6 [setuptools]\n",
      "   ------ --------------------------------- 1/6 [setuptools]\n",
      "   ------ --------------------------------- 1/6 [setuptools]\n",
      "   ------ --------------------------------- 1/6 [setuptools]\n",
      "   ------ --------------------------------- 1/6 [setuptools]\n",
      "   ------ --------------------------------- 1/6 [setuptools]\n",
      "   ------ --------------------------------- 1/6 [setuptools]\n",
      "   ------ --------------------------------- 1/6 [setuptools]\n",
      "   ------ --------------------------------- 1/6 [setuptools]\n",
      "   ------------- -------------------------- 2/6 [gitdb]\n",
      "   ------------- -------------------------- 2/6 [gitdb]\n",
      "   ------------- -------------------------- 2/6 [gitdb]\n",
      "   ------------- -------------------------- 2/6 [gitdb]\n",
      "   ------------- -------------------------- 2/6 [gitdb]\n",
      "   ------------- -------------------------- 2/6 [gitdb]\n",
      "   -------------------- ------------------- 3/6 [thop]\n",
      "   -------------------- ------------------- 3/6 [thop]\n",
      "   -------------------- ------------------- 3/6 [thop]\n",
      "   -------------------------- ------------- 4/6 [seaborn]\n",
      "   -------------------------- ------------- 4/6 [seaborn]\n",
      "   -------------------------- ------------- 4/6 [seaborn]\n",
      "   -------------------------- ------------- 4/6 [seaborn]\n",
      "   -------------------------- ------------- 4/6 [seaborn]\n",
      "   -------------------------- ------------- 4/6 [seaborn]\n",
      "   -------------------------- ------------- 4/6 [seaborn]\n",
      "   -------------------------- ------------- 4/6 [seaborn]\n",
      "   -------------------------- ------------- 4/6 [seaborn]\n",
      "   -------------------------- ------------- 4/6 [seaborn]\n",
      "   -------------------------- ------------- 4/6 [seaborn]\n",
      "   -------------------------- ------------- 4/6 [seaborn]\n",
      "   -------------------------- ------------- 4/6 [seaborn]\n",
      "   --------------------------------- ------ 5/6 [gitpython]\n",
      "   --------------------------------- ------ 5/6 [gitpython]\n",
      "   --------------------------------- ------ 5/6 [gitpython]\n",
      "   --------------------------------- ------ 5/6 [gitpython]\n",
      "   --------------------------------- ------ 5/6 [gitpython]\n",
      "   --------------------------------- ------ 5/6 [gitpython]\n",
      "   --------------------------------- ------ 5/6 [gitpython]\n",
      "   --------------------------------- ------ 5/6 [gitpython]\n",
      "   ---------------------------------------- 6/6 [gitpython]\n",
      "\n",
      "Successfully installed gitdb-4.0.12 gitpython-3.1.44 seaborn-0.13.2 setuptools-80.9.0 smmap-5.0.2 thop-0.1.1.post2209072238\n"
     ]
    }
   ],
   "source": [
    "!cd yolov5 & pip install -r requirements.txt"
   ]
  },
  {
   "cell_type": "code",
   "execution_count": 21,
   "id": "57ea65b1-524d-4137-bdb0-422ee26d0cbd",
   "metadata": {},
   "outputs": [],
   "source": [
    "import torch\n",
    "from matplotlib import pyplot as plt\n",
    "import numpy as np\n",
    "import cv2"
   ]
  },
  {
   "cell_type": "markdown",
   "id": "0d7a7540-f752-4e67-ab15-8c4454cd1473",
   "metadata": {
    "jp-MarkdownHeadingCollapsed": true
   },
   "source": [
    "## Load Model YOLOv5"
   ]
  },
  {
   "cell_type": "code",
   "execution_count": 15,
   "id": "bf5b03a3-725e-44ad-b456-b67c466b0c86",
   "metadata": {},
   "outputs": [
    {
     "name": "stderr",
     "output_type": "stream",
     "text": [
      "C:\\Users\\prath\\AppData\\Local\\Programs\\Python\\Python310\\lib\\site-packages\\torch\\hub.py:330: UserWarning: You are about to download and run code from an untrusted repository. In a future release, this won't be allowed. To add the repository to your trusted list, change the command to {calling_fn}(..., trust_repo=False) and a command prompt will appear asking for an explicit confirmation of trust, or load(..., trust_repo=True), which will assume that the prompt is to be answered with 'yes'. You can also use load(..., trust_repo='check') which will only prompt for confirmation if the repo is not already trusted. This will eventually be the default behaviour\n",
      "  warnings.warn(\n"
     ]
    },
    {
     "name": "stdout",
     "output_type": "stream",
     "text": [
      "Downloading: \"https://github.com/ultralytics/yolov5/zipball/master\" to C:\\Users\\prath/.cache\\torch\\hub\\master.zip\n"
     ]
    },
    {
     "name": "stderr",
     "output_type": "stream",
     "text": [
      "C:\\Users\\prath/.cache\\torch\\hub\\ultralytics_yolov5_master\\utils\\general.py:32: UserWarning: pkg_resources is deprecated as an API. See https://setuptools.pypa.io/en/latest/pkg_resources.html. The pkg_resources package is slated for removal as early as 2025-11-30. Refrain from using this package or pin to Setuptools<81.\n",
      "  import pkg_resources as pkg\n",
      "YOLOv5  2025-7-17 Python-3.10.11 torch-2.7.1+cpu CPU\n",
      "\n",
      "Downloading https://github.com/ultralytics/yolov5/releases/download/v7.0/yolov5s.pt to yolov5s.pt...\n",
      "100%|█████████████████████████████████████████████████████████████████████████████| 14.1M/14.1M [00:05<00:00, 2.48MB/s]\n",
      "\n",
      "Fusing layers... \n",
      "YOLOv5s summary: 213 layers, 7225885 parameters, 0 gradients, 16.4 GFLOPs\n",
      "Adding AutoShape... \n"
     ]
    }
   ],
   "source": [
    "model = torch.hub.load('ultralytics/yolov5', 'yolov5s')"
   ]
  },
  {
   "cell_type": "code",
   "execution_count": 16,
   "id": "558644c5-20b5-4960-b0ec-d9beb79083ac",
   "metadata": {},
   "outputs": [
    {
     "data": {
      "text/plain": [
       "AutoShape(\n",
       "  (model): DetectMultiBackend(\n",
       "    (model): DetectionModel(\n",
       "      (model): Sequential(\n",
       "        (0): Conv(\n",
       "          (conv): Conv2d(3, 32, kernel_size=(6, 6), stride=(2, 2), padding=(2, 2))\n",
       "          (act): SiLU(inplace=True)\n",
       "        )\n",
       "        (1): Conv(\n",
       "          (conv): Conv2d(32, 64, kernel_size=(3, 3), stride=(2, 2), padding=(1, 1))\n",
       "          (act): SiLU(inplace=True)\n",
       "        )\n",
       "        (2): C3(\n",
       "          (cv1): Conv(\n",
       "            (conv): Conv2d(64, 32, kernel_size=(1, 1), stride=(1, 1))\n",
       "            (act): SiLU(inplace=True)\n",
       "          )\n",
       "          (cv2): Conv(\n",
       "            (conv): Conv2d(64, 32, kernel_size=(1, 1), stride=(1, 1))\n",
       "            (act): SiLU(inplace=True)\n",
       "          )\n",
       "          (cv3): Conv(\n",
       "            (conv): Conv2d(64, 64, kernel_size=(1, 1), stride=(1, 1))\n",
       "            (act): SiLU(inplace=True)\n",
       "          )\n",
       "          (m): Sequential(\n",
       "            (0): Bottleneck(\n",
       "              (cv1): Conv(\n",
       "                (conv): Conv2d(32, 32, kernel_size=(1, 1), stride=(1, 1))\n",
       "                (act): SiLU(inplace=True)\n",
       "              )\n",
       "              (cv2): Conv(\n",
       "                (conv): Conv2d(32, 32, kernel_size=(3, 3), stride=(1, 1), padding=(1, 1))\n",
       "                (act): SiLU(inplace=True)\n",
       "              )\n",
       "            )\n",
       "          )\n",
       "        )\n",
       "        (3): Conv(\n",
       "          (conv): Conv2d(64, 128, kernel_size=(3, 3), stride=(2, 2), padding=(1, 1))\n",
       "          (act): SiLU(inplace=True)\n",
       "        )\n",
       "        (4): C3(\n",
       "          (cv1): Conv(\n",
       "            (conv): Conv2d(128, 64, kernel_size=(1, 1), stride=(1, 1))\n",
       "            (act): SiLU(inplace=True)\n",
       "          )\n",
       "          (cv2): Conv(\n",
       "            (conv): Conv2d(128, 64, kernel_size=(1, 1), stride=(1, 1))\n",
       "            (act): SiLU(inplace=True)\n",
       "          )\n",
       "          (cv3): Conv(\n",
       "            (conv): Conv2d(128, 128, kernel_size=(1, 1), stride=(1, 1))\n",
       "            (act): SiLU(inplace=True)\n",
       "          )\n",
       "          (m): Sequential(\n",
       "            (0): Bottleneck(\n",
       "              (cv1): Conv(\n",
       "                (conv): Conv2d(64, 64, kernel_size=(1, 1), stride=(1, 1))\n",
       "                (act): SiLU(inplace=True)\n",
       "              )\n",
       "              (cv2): Conv(\n",
       "                (conv): Conv2d(64, 64, kernel_size=(3, 3), stride=(1, 1), padding=(1, 1))\n",
       "                (act): SiLU(inplace=True)\n",
       "              )\n",
       "            )\n",
       "            (1): Bottleneck(\n",
       "              (cv1): Conv(\n",
       "                (conv): Conv2d(64, 64, kernel_size=(1, 1), stride=(1, 1))\n",
       "                (act): SiLU(inplace=True)\n",
       "              )\n",
       "              (cv2): Conv(\n",
       "                (conv): Conv2d(64, 64, kernel_size=(3, 3), stride=(1, 1), padding=(1, 1))\n",
       "                (act): SiLU(inplace=True)\n",
       "              )\n",
       "            )\n",
       "          )\n",
       "        )\n",
       "        (5): Conv(\n",
       "          (conv): Conv2d(128, 256, kernel_size=(3, 3), stride=(2, 2), padding=(1, 1))\n",
       "          (act): SiLU(inplace=True)\n",
       "        )\n",
       "        (6): C3(\n",
       "          (cv1): Conv(\n",
       "            (conv): Conv2d(256, 128, kernel_size=(1, 1), stride=(1, 1))\n",
       "            (act): SiLU(inplace=True)\n",
       "          )\n",
       "          (cv2): Conv(\n",
       "            (conv): Conv2d(256, 128, kernel_size=(1, 1), stride=(1, 1))\n",
       "            (act): SiLU(inplace=True)\n",
       "          )\n",
       "          (cv3): Conv(\n",
       "            (conv): Conv2d(256, 256, kernel_size=(1, 1), stride=(1, 1))\n",
       "            (act): SiLU(inplace=True)\n",
       "          )\n",
       "          (m): Sequential(\n",
       "            (0): Bottleneck(\n",
       "              (cv1): Conv(\n",
       "                (conv): Conv2d(128, 128, kernel_size=(1, 1), stride=(1, 1))\n",
       "                (act): SiLU(inplace=True)\n",
       "              )\n",
       "              (cv2): Conv(\n",
       "                (conv): Conv2d(128, 128, kernel_size=(3, 3), stride=(1, 1), padding=(1, 1))\n",
       "                (act): SiLU(inplace=True)\n",
       "              )\n",
       "            )\n",
       "            (1): Bottleneck(\n",
       "              (cv1): Conv(\n",
       "                (conv): Conv2d(128, 128, kernel_size=(1, 1), stride=(1, 1))\n",
       "                (act): SiLU(inplace=True)\n",
       "              )\n",
       "              (cv2): Conv(\n",
       "                (conv): Conv2d(128, 128, kernel_size=(3, 3), stride=(1, 1), padding=(1, 1))\n",
       "                (act): SiLU(inplace=True)\n",
       "              )\n",
       "            )\n",
       "            (2): Bottleneck(\n",
       "              (cv1): Conv(\n",
       "                (conv): Conv2d(128, 128, kernel_size=(1, 1), stride=(1, 1))\n",
       "                (act): SiLU(inplace=True)\n",
       "              )\n",
       "              (cv2): Conv(\n",
       "                (conv): Conv2d(128, 128, kernel_size=(3, 3), stride=(1, 1), padding=(1, 1))\n",
       "                (act): SiLU(inplace=True)\n",
       "              )\n",
       "            )\n",
       "          )\n",
       "        )\n",
       "        (7): Conv(\n",
       "          (conv): Conv2d(256, 512, kernel_size=(3, 3), stride=(2, 2), padding=(1, 1))\n",
       "          (act): SiLU(inplace=True)\n",
       "        )\n",
       "        (8): C3(\n",
       "          (cv1): Conv(\n",
       "            (conv): Conv2d(512, 256, kernel_size=(1, 1), stride=(1, 1))\n",
       "            (act): SiLU(inplace=True)\n",
       "          )\n",
       "          (cv2): Conv(\n",
       "            (conv): Conv2d(512, 256, kernel_size=(1, 1), stride=(1, 1))\n",
       "            (act): SiLU(inplace=True)\n",
       "          )\n",
       "          (cv3): Conv(\n",
       "            (conv): Conv2d(512, 512, kernel_size=(1, 1), stride=(1, 1))\n",
       "            (act): SiLU(inplace=True)\n",
       "          )\n",
       "          (m): Sequential(\n",
       "            (0): Bottleneck(\n",
       "              (cv1): Conv(\n",
       "                (conv): Conv2d(256, 256, kernel_size=(1, 1), stride=(1, 1))\n",
       "                (act): SiLU(inplace=True)\n",
       "              )\n",
       "              (cv2): Conv(\n",
       "                (conv): Conv2d(256, 256, kernel_size=(3, 3), stride=(1, 1), padding=(1, 1))\n",
       "                (act): SiLU(inplace=True)\n",
       "              )\n",
       "            )\n",
       "          )\n",
       "        )\n",
       "        (9): SPPF(\n",
       "          (cv1): Conv(\n",
       "            (conv): Conv2d(512, 256, kernel_size=(1, 1), stride=(1, 1))\n",
       "            (act): SiLU(inplace=True)\n",
       "          )\n",
       "          (cv2): Conv(\n",
       "            (conv): Conv2d(1024, 512, kernel_size=(1, 1), stride=(1, 1))\n",
       "            (act): SiLU(inplace=True)\n",
       "          )\n",
       "          (m): MaxPool2d(kernel_size=5, stride=1, padding=2, dilation=1, ceil_mode=False)\n",
       "        )\n",
       "        (10): Conv(\n",
       "          (conv): Conv2d(512, 256, kernel_size=(1, 1), stride=(1, 1))\n",
       "          (act): SiLU(inplace=True)\n",
       "        )\n",
       "        (11): Upsample(scale_factor=2.0, mode='nearest')\n",
       "        (12): Concat()\n",
       "        (13): C3(\n",
       "          (cv1): Conv(\n",
       "            (conv): Conv2d(512, 128, kernel_size=(1, 1), stride=(1, 1))\n",
       "            (act): SiLU(inplace=True)\n",
       "          )\n",
       "          (cv2): Conv(\n",
       "            (conv): Conv2d(512, 128, kernel_size=(1, 1), stride=(1, 1))\n",
       "            (act): SiLU(inplace=True)\n",
       "          )\n",
       "          (cv3): Conv(\n",
       "            (conv): Conv2d(256, 256, kernel_size=(1, 1), stride=(1, 1))\n",
       "            (act): SiLU(inplace=True)\n",
       "          )\n",
       "          (m): Sequential(\n",
       "            (0): Bottleneck(\n",
       "              (cv1): Conv(\n",
       "                (conv): Conv2d(128, 128, kernel_size=(1, 1), stride=(1, 1))\n",
       "                (act): SiLU(inplace=True)\n",
       "              )\n",
       "              (cv2): Conv(\n",
       "                (conv): Conv2d(128, 128, kernel_size=(3, 3), stride=(1, 1), padding=(1, 1))\n",
       "                (act): SiLU(inplace=True)\n",
       "              )\n",
       "            )\n",
       "          )\n",
       "        )\n",
       "        (14): Conv(\n",
       "          (conv): Conv2d(256, 128, kernel_size=(1, 1), stride=(1, 1))\n",
       "          (act): SiLU(inplace=True)\n",
       "        )\n",
       "        (15): Upsample(scale_factor=2.0, mode='nearest')\n",
       "        (16): Concat()\n",
       "        (17): C3(\n",
       "          (cv1): Conv(\n",
       "            (conv): Conv2d(256, 64, kernel_size=(1, 1), stride=(1, 1))\n",
       "            (act): SiLU(inplace=True)\n",
       "          )\n",
       "          (cv2): Conv(\n",
       "            (conv): Conv2d(256, 64, kernel_size=(1, 1), stride=(1, 1))\n",
       "            (act): SiLU(inplace=True)\n",
       "          )\n",
       "          (cv3): Conv(\n",
       "            (conv): Conv2d(128, 128, kernel_size=(1, 1), stride=(1, 1))\n",
       "            (act): SiLU(inplace=True)\n",
       "          )\n",
       "          (m): Sequential(\n",
       "            (0): Bottleneck(\n",
       "              (cv1): Conv(\n",
       "                (conv): Conv2d(64, 64, kernel_size=(1, 1), stride=(1, 1))\n",
       "                (act): SiLU(inplace=True)\n",
       "              )\n",
       "              (cv2): Conv(\n",
       "                (conv): Conv2d(64, 64, kernel_size=(3, 3), stride=(1, 1), padding=(1, 1))\n",
       "                (act): SiLU(inplace=True)\n",
       "              )\n",
       "            )\n",
       "          )\n",
       "        )\n",
       "        (18): Conv(\n",
       "          (conv): Conv2d(128, 128, kernel_size=(3, 3), stride=(2, 2), padding=(1, 1))\n",
       "          (act): SiLU(inplace=True)\n",
       "        )\n",
       "        (19): Concat()\n",
       "        (20): C3(\n",
       "          (cv1): Conv(\n",
       "            (conv): Conv2d(256, 128, kernel_size=(1, 1), stride=(1, 1))\n",
       "            (act): SiLU(inplace=True)\n",
       "          )\n",
       "          (cv2): Conv(\n",
       "            (conv): Conv2d(256, 128, kernel_size=(1, 1), stride=(1, 1))\n",
       "            (act): SiLU(inplace=True)\n",
       "          )\n",
       "          (cv3): Conv(\n",
       "            (conv): Conv2d(256, 256, kernel_size=(1, 1), stride=(1, 1))\n",
       "            (act): SiLU(inplace=True)\n",
       "          )\n",
       "          (m): Sequential(\n",
       "            (0): Bottleneck(\n",
       "              (cv1): Conv(\n",
       "                (conv): Conv2d(128, 128, kernel_size=(1, 1), stride=(1, 1))\n",
       "                (act): SiLU(inplace=True)\n",
       "              )\n",
       "              (cv2): Conv(\n",
       "                (conv): Conv2d(128, 128, kernel_size=(3, 3), stride=(1, 1), padding=(1, 1))\n",
       "                (act): SiLU(inplace=True)\n",
       "              )\n",
       "            )\n",
       "          )\n",
       "        )\n",
       "        (21): Conv(\n",
       "          (conv): Conv2d(256, 256, kernel_size=(3, 3), stride=(2, 2), padding=(1, 1))\n",
       "          (act): SiLU(inplace=True)\n",
       "        )\n",
       "        (22): Concat()\n",
       "        (23): C3(\n",
       "          (cv1): Conv(\n",
       "            (conv): Conv2d(512, 256, kernel_size=(1, 1), stride=(1, 1))\n",
       "            (act): SiLU(inplace=True)\n",
       "          )\n",
       "          (cv2): Conv(\n",
       "            (conv): Conv2d(512, 256, kernel_size=(1, 1), stride=(1, 1))\n",
       "            (act): SiLU(inplace=True)\n",
       "          )\n",
       "          (cv3): Conv(\n",
       "            (conv): Conv2d(512, 512, kernel_size=(1, 1), stride=(1, 1))\n",
       "            (act): SiLU(inplace=True)\n",
       "          )\n",
       "          (m): Sequential(\n",
       "            (0): Bottleneck(\n",
       "              (cv1): Conv(\n",
       "                (conv): Conv2d(256, 256, kernel_size=(1, 1), stride=(1, 1))\n",
       "                (act): SiLU(inplace=True)\n",
       "              )\n",
       "              (cv2): Conv(\n",
       "                (conv): Conv2d(256, 256, kernel_size=(3, 3), stride=(1, 1), padding=(1, 1))\n",
       "                (act): SiLU(inplace=True)\n",
       "              )\n",
       "            )\n",
       "          )\n",
       "        )\n",
       "        (24): Detect(\n",
       "          (m): ModuleList(\n",
       "            (0): Conv2d(128, 255, kernel_size=(1, 1), stride=(1, 1))\n",
       "            (1): Conv2d(256, 255, kernel_size=(1, 1), stride=(1, 1))\n",
       "            (2): Conv2d(512, 255, kernel_size=(1, 1), stride=(1, 1))\n",
       "          )\n",
       "        )\n",
       "      )\n",
       "    )\n",
       "  )\n",
       ")"
      ]
     },
     "execution_count": 16,
     "metadata": {},
     "output_type": "execute_result"
    }
   ],
   "source": [
    "model"
   ]
  },
  {
   "cell_type": "markdown",
   "id": "ab153f7e-a647-4b04-97bf-2e3e6b5fecbd",
   "metadata": {
    "jp-MarkdownHeadingCollapsed": true
   },
   "source": [
    "## Make detections"
   ]
  },
  {
   "cell_type": "code",
   "execution_count": 18,
   "id": "5732fb60-a1cb-4428-8bb3-6d5f5b5b5560",
   "metadata": {},
   "outputs": [],
   "source": [
    "img = 'https://ultralytics.com/images/zidane.jpg'"
   ]
  },
  {
   "cell_type": "code",
   "execution_count": 19,
   "id": "ce91562d-719b-476b-91c7-835a0ff2fc9c",
   "metadata": {},
   "outputs": [
    {
     "name": "stderr",
     "output_type": "stream",
     "text": [
      "C:\\Users\\prath/.cache\\torch\\hub\\ultralytics_yolov5_master\\models\\common.py:906: FutureWarning: `torch.cuda.amp.autocast(args...)` is deprecated. Please use `torch.amp.autocast('cuda', args...)` instead.\n",
      "  with amp.autocast(autocast):\n",
      "image 1/1: 720x1280 2 persons, 1 tie, 1 cell phone\n",
      "Speed: 1380.4ms pre-process, 519.9ms inference, 25.1ms NMS per image at shape (1, 3, 384, 640)\n"
     ]
    }
   ],
   "source": [
    "results = model(img)\n",
    "results.print()"
   ]
  },
  {
   "cell_type": "code",
   "execution_count": 25,
   "id": "fbc319e5-45d1-4d69-b2b6-4203658210ec",
   "metadata": {},
   "outputs": [
    {
     "data": {
      "image/png": "[encoded data removed]",
      "text/plain": [
       "<Figure size 640x480 with 1 Axes>"
      ]
     },
     "metadata": {},
     "output_type": "display_data"
    }
   ],
   "source": [
    "%matplotlib inline \n",
    "plt.imshow(np.squeeze(results.render()))\n",
    "plt.show()"
   ]
  },
  {
   "cell_type": "markdown",
   "id": "4972f8cd-0547-4674-9def-4179163f2fa1",
   "metadata": {
    "jp-MarkdownHeadingCollapsed": true
   },
   "source": [
    "## Real time detection"
   ]
  },
  {
   "cell_type": "code",
   "execution_count": 36,
   "id": "fa15fd54-f082-4429-b317-237b2d771201",
   "metadata": {},
   "outputs": [
    {
     "ename": "AttributeError",
     "evalue": "'list' object has no attribute 'render'",
     "output_type": "error",
     "traceback": [
      "\u001b[1;31m---------------------------------------------------------------------------\u001b[0m",
      "\u001b[1;31mAttributeError\u001b[0m                            Traceback (most recent call last)",
      "Cell \u001b[1;32mIn[36], line 7\u001b[0m\n\u001b[0;32m      5\u001b[0m \u001b[38;5;66;03m#make our detection\u001b[39;00m\n\u001b[0;32m      6\u001b[0m results \u001b[38;5;241m=\u001b[39m model(frame)\n\u001b[1;32m----> 7\u001b[0m cv2\u001b[38;5;241m.\u001b[39mimshow(\u001b[38;5;124m'\u001b[39m\u001b[38;5;124mYOLO\u001b[39m\u001b[38;5;124m'\u001b[39m, np\u001b[38;5;241m.\u001b[39msqueeze(\u001b[43mresults\u001b[49m\u001b[38;5;241;43m.\u001b[39;49m\u001b[43mrender\u001b[49m()))\n\u001b[0;32m      9\u001b[0m \u001b[38;5;28;01mif\u001b[39;00m cv2\u001b[38;5;241m.\u001b[39mwaitKey(\u001b[38;5;241m10\u001b[39m) \u001b[38;5;241m&\u001b[39m \u001b[38;5;241m0xFF\u001b[39m \u001b[38;5;241m==\u001b[39m \u001b[38;5;28mord\u001b[39m(\u001b[38;5;124m'\u001b[39m\u001b[38;5;124mq\u001b[39m\u001b[38;5;124m'\u001b[39m):\n\u001b[0;32m     10\u001b[0m     \u001b[38;5;28;01mbreak\u001b[39;00m\n",
      "\u001b[1;31mAttributeError\u001b[0m: 'list' object has no attribute 'render'"
     ]
    }
   ],
   "source": [
    "cap = cv2.VideoCapture(0)\n",
    "while cap.isOpened(): \n",
    "    ret, frame = cap.read()\n",
    "\n",
    "    #make our detection\n",
    "    results = model(frame)\n",
    "    cv2.imshow('YOLO', np.squeeze(results.render()))\n",
    "    \n",
    "    if cv2.waitKey(10) & 0xFF == ord('q'):\n",
    "        break\n",
    "cap.release()\n",
    "cv2.destroyAllWindows()"
   ]
  },
  {
   "cell_type": "markdown",
   "id": "b23cc6fa-50d7-4853-aa31-18910b17f6d4",
   "metadata": {
    "jp-MarkdownHeadingCollapsed": true
   },
   "source": [
    "## set data"
   ]
  },
  {
   "cell_type": "code",
   "execution_count": null,
   "id": "a93d0bbf-80df-4707-8960-370aa8779e84",
   "metadata": {},
   "outputs": [],
   "source": [
    "# 1) Paths & parameters\n",
    "src_root    = \"/content/driver-drowsiness/Driver Drowsiness Dataset (DDD)\"\n",
    "out_root    = \"/content/driver-drowsiness-split\"\n",
    "classes     = [\"Drowsy\", \"Non Drowsy\"]\n",
    "train_ratio = 0.8\n",
    "seed        = 42\n",
    "\n",
    "# 2) Make dirs\n",
    "for split in [\"train\", \"val\"]:\n",
    "    for cls in classes:\n",
    "        os.makedirs(os.path.join(out_root, split, cls), exist_ok=True)\n",
    "\n",
    "# 3) Split\n",
    "random.seed(seed)\n",
    "for cls in classes:\n",
    "    cls_src = os.path.join(src_root, cls)\n",
    "    files   = [f for f in os.listdir(cls_src) if f.lower().endswith((\".jpg\", \".png\"))]\n",
    "    random.shuffle(files)\n",
    "    split_i = int(len(files) * train_ratio)\n",
    "    train_files, val_files = files[:split_i], files[split_i:]\n",
    "\n",
    "    for fname in train_files:\n",
    "        shutil.copy2(os.path.join(cls_src, fname),\n",
    "                     os.path.join(out_root, \"train\", cls, fname))\n",
    "    for fname in val_files:\n",
    "        shutil.copy2(os.path.join(cls_src, fname),\n",
    "                     os.path.join(out_root, \"val\",   cls, fname))"
   ]
  },
  {
   "cell_type": "markdown",
   "id": "dfccc855-4ba6-4a8d-b8ca-87f6ea2b8bdf",
   "metadata": {
    "jp-MarkdownHeadingCollapsed": true
   },
   "source": [
    "## Load Model YOLO11s-cls"
   ]
  },
  {
   "cell_type": "code",
   "execution_count": 2,
   "id": "d399c84d-a375-4f30-9d33-d6860e1e9629",
   "metadata": {},
   "outputs": [
    {
     "name": "stdout",
     "output_type": "stream",
     "text": [
      "Downloading https://github.com/ultralytics/assets/releases/download/v8.3.0/yolo11n-cls.pt to 'yolo11n-cls.pt'...\n"
     ]
    },
    {
     "name": "stderr",
     "output_type": "stream",
     "text": [
      "100%|█████████████████████████████████████████████████████████████████████████████| 5.52M/5.52M [00:00<00:00, 35.6MB/s]\n"
     ]
    }
   ],
   "source": [
    "from ultralytics import YOLO \n",
    "model = YOLO(\"yolo11n-cls.pt\")  # using nano to reduce size"
   ]
  },
  {
   "cell_type": "markdown",
   "id": "1e1e7530-ab19-4981-b90a-ea21fdc7f679",
   "metadata": {
    "jp-MarkdownHeadingCollapsed": true
   },
   "source": [
    "## train YOLO11s-cls model on drowsy data"
   ]
  },
  {
   "cell_type": "code",
   "execution_count": null,
   "id": "37ccb0ed-7960-4809-9bdf-72f3adbcf37c",
   "metadata": {
    "scrolled": true
   },
   "outputs": [
    {
     "name": "stdout",
     "output_type": "stream",
     "text": [
      "New https://pypi.org/project/ultralytics/8.3.168 available  Update with 'pip install -U ultralytics'\n",
      "Ultralytics 8.3.167  Python-3.10.11 torch-2.7.1+cpu CPU (13th Gen Intel Core(TM) i7-13700H)\n",
      "\u001b[34m\u001b[1mengine\\trainer: \u001b[0magnostic_nms=False, amp=True, augment=False, auto_augment=randaugment, batch=32, bgr=0.0, box=7.5, cache=True, cfg=None, classes=None, close_mosaic=10, cls=0.5, conf=None, copy_paste=0.0, copy_paste_mode=flip, cos_lr=False, cutmix=0.0, data=data, degrees=0.0, deterministic=True, device=cpu, dfl=1.5, dnn=False, dropout=0.0, dynamic=False, embed=None, epochs=15, erasing=0.4, exist_ok=False, fliplr=0.5, flipud=0.0, format=torchscript, fraction=1.0, freeze=None, half=False, hsv_h=0.015, hsv_s=0.7, hsv_v=0.4, imgsz=224, int8=False, iou=0.7, keras=False, kobj=1.0, line_width=None, lr0=0.01, lrf=0.01, mask_ratio=4, max_det=300, mixup=0.0, mode=train, model=yolo11n-cls.pt, momentum=0.937, mosaic=1.0, multi_scale=False, name=train, nbs=64, nms=False, opset=None, optimize=False, optimizer=auto, overlap_mask=True, patience=100, perspective=0.0, plots=True, pose=12.0, pretrained=True, profile=False, project=None, rect=False, resume=False, retina_masks=False, save=True, save_conf=False, save_crop=False, save_dir=runs\\classify\\train, save_frames=False, save_json=False, save_period=-1, save_txt=False, scale=0.5, seed=0, shear=0.0, show=False, show_boxes=True, show_conf=True, show_labels=True, simplify=True, single_cls=False, source=None, split=val, stream_buffer=False, task=classify, time=None, tracker=botsort.yaml, translate=0.1, val=True, verbose=True, vid_stride=1, visualize=False, warmup_bias_lr=0.1, warmup_epochs=3.0, warmup_momentum=0.8, weight_decay=0.0005, workers=8, workspace=None\n",
      "\u001b[34m\u001b[1mtrain:\u001b[0m C:\\Users\\prath\\ML\\Drowsiness_Detection\\data\\train... found 33434 images in 2 classes  \n",
      "\u001b[34m\u001b[1mval:\u001b[0m C:\\Users\\prath\\ML\\Drowsiness_Detection\\data\\val... found 8359 images in 2 classes  \n",
      "\u001b[34m\u001b[1mtest:\u001b[0m None...\n",
      "Overriding model.yaml nc=80 with nc=2\n",
      "\n",
      "                   from  n    params  module                                       arguments                     \n",
      "  0                  -1  1       464  ultralytics.nn.modules.conv.Conv             [3, 16, 3, 2]                 \n",
      "  1                  -1  1      4672  ultralytics.nn.modules.conv.Conv             [16, 32, 3, 2]                \n",
      "  2                  -1  1      6640  ultralytics.nn.modules.block.C3k2            [32, 64, 1, False, 0.25]      \n",
      "  3                  -1  1     36992  ultralytics.nn.modules.conv.Conv             [64, 64, 3, 2]                \n",
      "  4                  -1  1     26080  ultralytics.nn.modules.block.C3k2            [64, 128, 1, False, 0.25]     \n",
      "  5                  -1  1    147712  ultralytics.nn.modules.conv.Conv             [128, 128, 3, 2]              \n",
      "  6                  -1  1     87040  ultralytics.nn.modules.block.C3k2            [128, 128, 1, True]           \n",
      "  7                  -1  1    295424  ultralytics.nn.modules.conv.Conv             [128, 256, 3, 2]              \n",
      "  8                  -1  1    346112  ultralytics.nn.modules.block.C3k2            [256, 256, 1, True]           \n",
      "  9                  -1  1    249728  ultralytics.nn.modules.block.C2PSA           [256, 256, 1]                 \n",
      " 10                  -1  1    332802  ultralytics.nn.modules.head.Classify         [256, 2]                      \n",
      "YOLO11n-cls summary: 86 layers, 1,533,666 parameters, 1,533,666 gradients, 3.3 GFLOPs\n",
      "Transferred 234/236 items from pretrained weights\n",
      "WARNING Classification `cache_ram` training has known memory leak in https://github.com/ultralytics/ultralytics/issues/9824, setting `cache_ram=False`.\n",
      "\u001b[34m\u001b[1mtrain: \u001b[0mFast image access  (ping: 0.60.2 ms, read: 59.114.5 MB/s, size: 64.2 KB)\n"
     ]
    },
    {
     "name": "stderr",
     "output_type": "stream",
     "text": [
      "\u001b[34m\u001b[1mtrain: \u001b[0mScanning C:\\Users\\prath\\ML\\Drowsiness_Detection\\data\\train... 33434 images, 0 corrupt: 100%|██████████| 33434/33\u001b[0m\n"
     ]
    },
    {
     "name": "stdout",
     "output_type": "stream",
     "text": [
      "\u001b[34m\u001b[1mtrain: \u001b[0mNew cache created: C:\\Users\\prath\\ML\\Drowsiness_Detection\\data\\train.cache\n",
      "WARNING Classification `cache_ram` training has known memory leak in https://github.com/ultralytics/ultralytics/issues/9824, setting `cache_ram=False`.\n",
      "\u001b[34m\u001b[1mval: \u001b[0mFast image access  (ping: 0.40.2 ms, read: 47.210.3 MB/s, size: 62.5 KB)\n"
     ]
    },
    {
     "name": "stderr",
     "output_type": "stream",
     "text": [
      "C:\\Users\\prath\\AppData\\Local\\Programs\\Python\\Python310\\lib\\site-packages\\torch\\utils\\data\\dataloader.py:665: UserWarning: 'pin_memory' argument is set as true but no accelerator is found, then device pinned memory won't be used.\n",
      "  warnings.warn(warn_msg)\n",
      "\u001b[34m\u001b[1mval: \u001b[0mScanning C:\\Users\\prath\\ML\\Drowsiness_Detection\\data\\val... 8359 images, 0 corrupt: 100%|██████████| 8359/8359 [00\u001b[0m\n"
     ]
    },
    {
     "name": "stdout",
     "output_type": "stream",
     "text": [
      "\u001b[34m\u001b[1mval: \u001b[0mNew cache created: C:\\Users\\prath\\ML\\Drowsiness_Detection\\data\\val.cache\n",
      "\u001b[34m\u001b[1moptimizer:\u001b[0m 'optimizer=auto' found, ignoring 'lr0=0.01' and 'momentum=0.937' and determining best 'optimizer', 'lr0' and 'momentum' automatically... \n",
      "\u001b[34m\u001b[1moptimizer:\u001b[0m AdamW(lr=0.001667, momentum=0.9) with parameter groups 39 weight(decay=0.0), 40 weight(decay=0.0005), 40 bias(decay=0.0)\n",
      "Image sizes 224 train, 224 val\n",
      "Using 0 dataloader workers\n",
      "Logging results to \u001b[1mruns\\classify\\train\u001b[0m\n",
      "Starting training for 15 epochs...\n",
      "\n",
      "      Epoch    GPU_mem       loss  Instances       Size\n"
     ]
    },
    {
     "name": "stderr",
     "output_type": "stream",
     "text": [
      "C:\\Users\\prath\\AppData\\Local\\Programs\\Python\\Python310\\lib\\site-packages\\torch\\utils\\data\\dataloader.py:665: UserWarning: 'pin_memory' argument is set as true but no accelerator is found, then device pinned memory won't be used.\n",
      "  warnings.warn(warn_msg)\n",
      "       1/15         0G     0.1648         26        224: 100%|██████████| 1045/1045 [11:08:13<00:00, 38.37s/it]       \n",
      "               classes   top1_acc   top5_acc: 100%|██████████| 131/131 [03:57<00:00,  1.81s/it]"
     ]
    },
    {
     "name": "stdout",
     "output_type": "stream",
     "text": [
      "                   all      0.997          1\n"
     ]
    },
    {
     "name": "stderr",
     "output_type": "stream",
     "text": [
      "\n"
     ]
    },
    {
     "name": "stdout",
     "output_type": "stream",
     "text": [
      "\n",
      "      Epoch    GPU_mem       loss  Instances       Size\n"
     ]
    },
    {
     "name": "stderr",
     "output_type": "stream",
     "text": [
      "       2/15         0G     0.0734         26        224: 100%|██████████| 1045/1045 [41:32<00:00,  2.38s/it]\n",
      "               classes   top1_acc   top5_acc: 100%|██████████| 131/131 [03:49<00:00,  1.75s/it]"
     ]
    },
    {
     "name": "stdout",
     "output_type": "stream",
     "text": [
      "                   all      0.994          1\n"
     ]
    },
    {
     "name": "stderr",
     "output_type": "stream",
     "text": [
      "\n"
     ]
    },
    {
     "name": "stdout",
     "output_type": "stream",
     "text": [
      "\n",
      "      Epoch    GPU_mem       loss  Instances       Size\n"
     ]
    },
    {
     "name": "stderr",
     "output_type": "stream",
     "text": [
      "       3/15         0G    0.06075         26        224: 100%|██████████| 1045/1045 [40:24<00:00,  2.32s/it]\n",
      "               classes   top1_acc   top5_acc: 100%|██████████| 131/131 [03:42<00:00,  1.70s/it]"
     ]
    },
    {
     "name": "stdout",
     "output_type": "stream",
     "text": [
      "                   all      0.989          1\n"
     ]
    },
    {
     "name": "stderr",
     "output_type": "stream",
     "text": [
      "\n"
     ]
    },
    {
     "name": "stdout",
     "output_type": "stream",
     "text": [
      "\n",
      "      Epoch    GPU_mem       loss  Instances       Size\n"
     ]
    },
    {
     "name": "stderr",
     "output_type": "stream",
     "text": [
      "       4/15         0G      0.142         32        224:   0%|          | 2/1045 [00:04<39:01,  2.25s/it]"
     ]
    }
   ],
   "source": [
    "results = model.train(\n",
    "    data=\"data\",                    #cpoints to ML/data.yaml\n",
    "    epochs= 15,\n",
    "    imgsz=224,\n",
    "    batch= 32,\n",
    "    cache=True,        # enable cache\n",
    "    workers=8          # parallel data loading\n",
    ")"
   ]
  },
  {
   "cell_type": "code",
   "execution_count": 3,
   "id": "cb247f14-f595-4e4e-bc40-5ce582663370",
   "metadata": {},
   "outputs": [],
   "source": [
    "from ultralytics import YOLO\n",
    "model = YOLO(\"runs/classify/train/weights/last.pt\")"
   ]
  },
  {
   "cell_type": "code",
   "execution_count": 4,
   "id": "b40b7a00-e0f7-47c8-8d65-ac2a2b818eb7",
   "metadata": {},
   "outputs": [
    {
     "name": "stdout",
     "output_type": "stream",
     "text": [
      "New https://pypi.org/project/ultralytics/8.3.169 available  Update with 'pip install -U ultralytics'\n",
      "Ultralytics 8.3.167  Python-3.10.11 torch-2.7.1+cpu CPU (13th Gen Intel Core(TM) i7-13700H)\n",
      "\u001b[34m\u001b[1mengine\\trainer: \u001b[0magnostic_nms=False, amp=True, augment=False, auto_augment=randaugment, batch=32, bgr=0.0, box=7.5, cache=True, cfg=None, classes=None, close_mosaic=10, cls=0.5, conf=None, copy_paste=0.0, copy_paste_mode=flip, cos_lr=False, cutmix=0.0, data=data, degrees=0.0, deterministic=True, device=cpu, dfl=1.5, dnn=False, dropout=0.0, dynamic=False, embed=None, epochs=15, erasing=0.4, exist_ok=False, fliplr=0.5, flipud=0.0, format=torchscript, fraction=1.0, freeze=None, half=False, hsv_h=0.015, hsv_s=0.7, hsv_v=0.4, imgsz=224, int8=False, iou=0.7, keras=False, kobj=1.0, line_width=None, lr0=0.01, lrf=0.01, mask_ratio=4, max_det=300, mixup=0.0, mode=train, model=runs\\classify\\train\\weights\\last.pt, momentum=0.937, mosaic=1.0, multi_scale=False, name=train, nbs=64, nms=False, opset=None, optimize=False, optimizer=auto, overlap_mask=True, patience=100, perspective=0.0, plots=True, pose=12.0, pretrained=True, profile=False, project=None, rect=False, resume=runs\\classify\\train\\weights\\last.pt, retina_masks=False, save=True, save_conf=False, save_crop=False, save_dir=runs\\classify\\train, save_frames=False, save_json=False, save_period=-1, save_txt=False, scale=0.5, seed=0, shear=0.0, show=False, show_boxes=True, show_conf=True, show_labels=True, simplify=True, single_cls=False, source=None, split=val, stream_buffer=False, task=classify, time=None, tracker=botsort.yaml, translate=0.1, val=True, verbose=True, vid_stride=1, visualize=False, warmup_bias_lr=0.0, warmup_epochs=3.0, warmup_momentum=0.8, weight_decay=0.0005, workers=0, workspace=None\n",
      "\u001b[34m\u001b[1mtrain:\u001b[0m C:\\Users\\prath\\ML\\Drowsiness_Detection\\data\\train... found 33434 images in 2 classes  \n",
      "\u001b[34m\u001b[1mval:\u001b[0m C:\\Users\\prath\\ML\\Drowsiness_Detection\\data\\val... found 8359 images in 2 classes  \n",
      "\u001b[34m\u001b[1mtest:\u001b[0m None...\n",
      "\n",
      "                   from  n    params  module                                       arguments                     \n",
      "  0                  -1  1       464  ultralytics.nn.modules.conv.Conv             [3, 16, 3, 2]                 \n",
      "  1                  -1  1      4672  ultralytics.nn.modules.conv.Conv             [16, 32, 3, 2]                \n",
      "  2                  -1  1      6640  ultralytics.nn.modules.block.C3k2            [32, 64, 1, False, 0.25]      \n",
      "  3                  -1  1     36992  ultralytics.nn.modules.conv.Conv             [64, 64, 3, 2]                \n",
      "  4                  -1  1     26080  ultralytics.nn.modules.block.C3k2            [64, 128, 1, False, 0.25]     \n",
      "  5                  -1  1    147712  ultralytics.nn.modules.conv.Conv             [128, 128, 3, 2]              \n",
      "  6                  -1  1     87040  ultralytics.nn.modules.block.C3k2            [128, 128, 1, True]           \n",
      "  7                  -1  1    295424  ultralytics.nn.modules.conv.Conv             [128, 256, 3, 2]              \n",
      "  8                  -1  1    346112  ultralytics.nn.modules.block.C3k2            [256, 256, 1, True]           \n",
      "  9                  -1  1    249728  ultralytics.nn.modules.block.C2PSA           [256, 256, 1]                 \n",
      " 10                  -1  1    332802  ultralytics.nn.modules.head.Classify         [256, 2]                      \n",
      "YOLO11n-cls summary: 86 layers, 1,533,666 parameters, 1,533,666 gradients, 3.3 GFLOPs\n",
      "Transferred 236/236 items from pretrained weights\n",
      "WARNING Classification `cache_ram` training has known memory leak in https://github.com/ultralytics/ultralytics/issues/9824, setting `cache_ram=False`.\n",
      "\u001b[34m\u001b[1mtrain: \u001b[0mFast image access  (ping: 1.10.7 ms, read: 43.517.9 MB/s, size: 64.2 KB)\n"
     ]
    },
    {
     "name": "stderr",
     "output_type": "stream",
     "text": [
      "\u001b[34m\u001b[1mtrain: \u001b[0mScanning C:\\Users\\prath\\ML\\Drowsiness_Detection\\data\\train... 33434 images, 0 corrupt: 100%|██████████| 33434/33\u001b[0m\n"
     ]
    },
    {
     "name": "stdout",
     "output_type": "stream",
     "text": [
      "WARNING Classification `cache_ram` training has known memory leak in https://github.com/ultralytics/ultralytics/issues/9824, setting `cache_ram=False`.\n",
      "\u001b[34m\u001b[1mval: \u001b[0mFast image access  (ping: 0.30.2 ms, read: 69.536.3 MB/s, size: 62.5 KB)\n"
     ]
    },
    {
     "name": "stderr",
     "output_type": "stream",
     "text": [
      "C:\\Users\\prath\\AppData\\Local\\Programs\\Python\\Python310\\lib\\site-packages\\torch\\utils\\data\\dataloader.py:665: UserWarning: 'pin_memory' argument is set as true but no accelerator is found, then device pinned memory won't be used.\n",
      "  warnings.warn(warn_msg)\n",
      "\u001b[34m\u001b[1mval: \u001b[0mScanning C:\\Users\\prath\\ML\\Drowsiness_Detection\\data\\val... 8359 images, 0 corrupt: 100%|██████████| 8359/8359 [00\u001b[0m\n"
     ]
    },
    {
     "name": "stdout",
     "output_type": "stream",
     "text": [
      "\u001b[34m\u001b[1moptimizer:\u001b[0m 'optimizer=auto' found, ignoring 'lr0=0.01' and 'momentum=0.937' and determining best 'optimizer', 'lr0' and 'momentum' automatically... \n",
      "\u001b[34m\u001b[1moptimizer:\u001b[0m AdamW(lr=0.001667, momentum=0.9) with parameter groups 39 weight(decay=0.0), 40 weight(decay=0.0005), 40 bias(decay=0.0)\n",
      "Resuming training runs\\classify\\train\\weights\\last.pt from epoch 4 to 15 total epochs\n",
      "Image sizes 224 train, 224 val\n",
      "Using 0 dataloader workers\n",
      "Logging results to \u001b[1mruns\\classify\\train\u001b[0m\n",
      "Starting training for 15 epochs...\n",
      "\n",
      "      Epoch    GPU_mem       loss  Instances       Size\n"
     ]
    },
    {
     "name": "stderr",
     "output_type": "stream",
     "text": [
      "C:\\Users\\prath\\AppData\\Local\\Programs\\Python\\Python310\\lib\\site-packages\\torch\\utils\\data\\dataloader.py:665: UserWarning: 'pin_memory' argument is set as true but no accelerator is found, then device pinned memory won't be used.\n",
      "  warnings.warn(warn_msg)\n",
      "       4/15         0G    0.04352         26        224: 100%|██████████| 1045/1045 [46:18<00:00,  2.66s/it]\n",
      "               classes   top1_acc   top5_acc: 100%|██████████| 131/131 [04:12<00:00,  1.93s/it]"
     ]
    },
    {
     "name": "stdout",
     "output_type": "stream",
     "text": [
      "                   all      0.999          1\n"
     ]
    },
    {
     "name": "stderr",
     "output_type": "stream",
     "text": [
      "\n"
     ]
    },
    {
     "name": "stdout",
     "output_type": "stream",
     "text": [
      "\n",
      "      Epoch    GPU_mem       loss  Instances       Size\n"
     ]
    },
    {
     "name": "stderr",
     "output_type": "stream",
     "text": [
      "       5/15         0G    0.02645         26        224: 100%|██████████| 1045/1045 [43:17<00:00,  2.49s/it]\n",
      "               classes   top1_acc   top5_acc: 100%|██████████| 131/131 [03:58<00:00,  1.82s/it]"
     ]
    },
    {
     "name": "stdout",
     "output_type": "stream",
     "text": [
      "                   all      0.999          1\n"
     ]
    },
    {
     "name": "stderr",
     "output_type": "stream",
     "text": [
      "\n"
     ]
    },
    {
     "name": "stdout",
     "output_type": "stream",
     "text": [
      "\n",
      "      Epoch    GPU_mem       loss  Instances       Size\n"
     ]
    },
    {
     "name": "stderr",
     "output_type": "stream",
     "text": [
      "C:\\Users\\prath\\AppData\\Local\\Programs\\Python\\Python310\\lib\\site-packages\\torch\\utils\\data\\dataloader.py:665: UserWarning: 'pin_memory' argument is set as true but no accelerator is found, then device pinned memory won't be used.\n",
      "  warnings.warn(warn_msg)\n",
      "       6/15         0G    0.02137         26        224: 100%|██████████| 1045/1045 [43:35<00:00,  2.50s/it]\n",
      "               classes   top1_acc   top5_acc: 100%|██████████| 131/131 [03:49<00:00,  1.76s/it]"
     ]
    },
    {
     "name": "stdout",
     "output_type": "stream",
     "text": [
      "                   all      0.999          1\n"
     ]
    },
    {
     "name": "stderr",
     "output_type": "stream",
     "text": [
      "\n"
     ]
    },
    {
     "name": "stdout",
     "output_type": "stream",
     "text": [
      "\n",
      "      Epoch    GPU_mem       loss  Instances       Size\n"
     ]
    },
    {
     "name": "stderr",
     "output_type": "stream",
     "text": [
      "       7/15         0G    0.01923         26        224: 100%|██████████| 1045/1045 [43:02<00:00,  2.47s/it]\n",
      "               classes   top1_acc   top5_acc: 100%|██████████| 131/131 [03:56<00:00,  1.80s/it]"
     ]
    },
    {
     "name": "stdout",
     "output_type": "stream",
     "text": [
      "                   all          1          1\n"
     ]
    },
    {
     "name": "stderr",
     "output_type": "stream",
     "text": [
      "\n"
     ]
    },
    {
     "name": "stdout",
     "output_type": "stream",
     "text": [
      "\n",
      "      Epoch    GPU_mem       loss  Instances       Size\n"
     ]
    },
    {
     "name": "stderr",
     "output_type": "stream",
     "text": [
      "       8/15         0G    0.01648         26        224: 100%|██████████| 1045/1045 [43:26<00:00,  2.49s/it]\n",
      "               classes   top1_acc   top5_acc: 100%|██████████| 131/131 [03:56<00:00,  1.81s/it]"
     ]
    },
    {
     "name": "stdout",
     "output_type": "stream",
     "text": [
      "                   all      0.999          1\n"
     ]
    },
    {
     "name": "stderr",
     "output_type": "stream",
     "text": [
      "\n"
     ]
    },
    {
     "name": "stdout",
     "output_type": "stream",
     "text": [
      "\n",
      "      Epoch    GPU_mem       loss  Instances       Size\n"
     ]
    },
    {
     "name": "stderr",
     "output_type": "stream",
     "text": [
      "       9/15         0G    0.01331         26        224: 100%|██████████| 1045/1045 [48:57<00:00,  2.81s/it]\n",
      "               classes   top1_acc   top5_acc: 100%|██████████| 131/131 [04:25<00:00,  2.03s/it]"
     ]
    },
    {
     "name": "stdout",
     "output_type": "stream",
     "text": [
      "                   all          1          1\n"
     ]
    },
    {
     "name": "stderr",
     "output_type": "stream",
     "text": [
      "\n"
     ]
    },
    {
     "name": "stdout",
     "output_type": "stream",
     "text": [
      "\n",
      "      Epoch    GPU_mem       loss  Instances       Size\n"
     ]
    },
    {
     "name": "stderr",
     "output_type": "stream",
     "text": [
      "      10/15         0G    0.01156         26        224: 100%|██████████| 1045/1045 [54:06<00:00,  3.11s/it]\n",
      "               classes   top1_acc   top5_acc: 100%|██████████| 131/131 [04:27<00:00,  2.04s/it]"
     ]
    },
    {
     "name": "stdout",
     "output_type": "stream",
     "text": [
      "                   all          1          1\n"
     ]
    },
    {
     "name": "stderr",
     "output_type": "stream",
     "text": [
      "\n"
     ]
    },
    {
     "name": "stdout",
     "output_type": "stream",
     "text": [
      "\n",
      "      Epoch    GPU_mem       loss  Instances       Size\n"
     ]
    },
    {
     "name": "stderr",
     "output_type": "stream",
     "text": [
      "      11/15         0G     0.0064         26        224: 100%|██████████| 1045/1045 [54:12<00:00,  3.11s/it]\n",
      "               classes   top1_acc   top5_acc: 100%|██████████| 131/131 [04:27<00:00,  2.04s/it]"
     ]
    },
    {
     "name": "stdout",
     "output_type": "stream",
     "text": [
      "                   all          1          1\n"
     ]
    },
    {
     "name": "stderr",
     "output_type": "stream",
     "text": [
      "\n"
     ]
    },
    {
     "name": "stdout",
     "output_type": "stream",
     "text": [
      "\n",
      "      Epoch    GPU_mem       loss  Instances       Size\n"
     ]
    },
    {
     "name": "stderr",
     "output_type": "stream",
     "text": [
      "      12/15         0G    0.00569         26        224: 100%|██████████| 1045/1045 [54:11<00:00,  3.11s/it]\n",
      "               classes   top1_acc   top5_acc: 100%|██████████| 131/131 [04:25<00:00,  2.03s/it]"
     ]
    },
    {
     "name": "stdout",
     "output_type": "stream",
     "text": [
      "                   all          1          1\n"
     ]
    },
    {
     "name": "stderr",
     "output_type": "stream",
     "text": [
      "\n"
     ]
    },
    {
     "name": "stdout",
     "output_type": "stream",
     "text": [
      "\n",
      "      Epoch    GPU_mem       loss  Instances       Size\n"
     ]
    },
    {
     "name": "stderr",
     "output_type": "stream",
     "text": [
      "      13/15         0G   0.004111         26        224: 100%|██████████| 1045/1045 [54:08<00:00,  3.11s/it]\n",
      "               classes   top1_acc   top5_acc: 100%|██████████| 131/131 [04:25<00:00,  2.03s/it]"
     ]
    },
    {
     "name": "stdout",
     "output_type": "stream",
     "text": [
      "                   all          1          1\n"
     ]
    },
    {
     "name": "stderr",
     "output_type": "stream",
     "text": [
      "\n"
     ]
    },
    {
     "name": "stdout",
     "output_type": "stream",
     "text": [
      "\n",
      "      Epoch    GPU_mem       loss  Instances       Size\n"
     ]
    },
    {
     "name": "stderr",
     "output_type": "stream",
     "text": [
      "      14/15         0G   0.003271         26        224: 100%|██████████| 1045/1045 [42:19<00:00,  2.43s/it]\n",
      "               classes   top1_acc   top5_acc: 100%|██████████| 131/131 [03:28<00:00,  1.59s/it]"
     ]
    },
    {
     "name": "stdout",
     "output_type": "stream",
     "text": [
      "                   all          1          1\n"
     ]
    },
    {
     "name": "stderr",
     "output_type": "stream",
     "text": [
      "\n"
     ]
    },
    {
     "name": "stdout",
     "output_type": "stream",
     "text": [
      "\n",
      "      Epoch    GPU_mem       loss  Instances       Size\n"
     ]
    },
    {
     "name": "stderr",
     "output_type": "stream",
     "text": [
      "      15/15         0G    0.00174         26        224: 100%|██████████| 1045/1045 [37:14<00:00,  2.14s/it]\n",
      "               classes   top1_acc   top5_acc: 100%|██████████| 131/131 [03:29<00:00,  1.60s/it]"
     ]
    },
    {
     "name": "stdout",
     "output_type": "stream",
     "text": [
      "                   all          1          1\n"
     ]
    },
    {
     "name": "stderr",
     "output_type": "stream",
     "text": [
      "\n"
     ]
    },
    {
     "name": "stdout",
     "output_type": "stream",
     "text": [
      "\n",
      "12 epochs completed in 10.234 hours.\n",
      "Optimizer stripped from runs\\classify\\train\\weights\\last.pt, 3.2MB\n",
      "Optimizer stripped from runs\\classify\\train\\weights\\best.pt, 3.2MB\n",
      "\n",
      "Validating runs\\classify\\train\\weights\\best.pt...\n",
      "Ultralytics 8.3.167  Python-3.10.11 torch-2.7.1+cpu CPU (13th Gen Intel Core(TM) i7-13700H)\n",
      "YOLO11n-cls summary (fused): 47 layers, 1,528,586 parameters, 0 gradients, 3.2 GFLOPs\n",
      "\u001b[34m\u001b[1mtrain:\u001b[0m C:\\Users\\prath\\ML\\Drowsiness_Detection\\data\\train... found 33434 images in 2 classes  \n",
      "\u001b[34m\u001b[1mval:\u001b[0m C:\\Users\\prath\\ML\\Drowsiness_Detection\\data\\val... found 8359 images in 2 classes  \n",
      "\u001b[34m\u001b[1mtest:\u001b[0m None...\n"
     ]
    },
    {
     "name": "stderr",
     "output_type": "stream",
     "text": [
      "               classes   top1_acc   top5_acc: 100%|██████████| 131/131 [03:13<00:00,  1.48s/it]\n"
     ]
    },
    {
     "name": "stdout",
     "output_type": "stream",
     "text": [
      "                   all          1          1\n",
      "Speed: 0.0ms preprocess, 10.6ms inference, 0.0ms loss, 0.0ms postprocess per image\n",
      "Results saved to \u001b[1mruns\\classify\\train\u001b[0m\n"
     ]
    },
    {
     "data": {
      "text/plain": [
       "ultralytics.utils.metrics.ClassifyMetrics object with attributes:\n",
       "\n",
       "confusion_matrix: <ultralytics.utils.metrics.ConfusionMatrix object at 0x0000014E9EE7D240>\n",
       "curves: []\n",
       "curves_results: []\n",
       "fitness: 1.0\n",
       "keys: ['metrics/accuracy_top1', 'metrics/accuracy_top5']\n",
       "results_dict: {'metrics/accuracy_top1': 1.0, 'metrics/accuracy_top5': 1.0, 'fitness': 1.0}\n",
       "save_dir: WindowsPath('runs/classify/train')\n",
       "speed: {'preprocess': 0.000863620045793525, 'inference': 10.614001256122434, 'loss': 8.242614237489791e-05, 'postprocess': 0.00015676516274892516}\n",
       "task: 'classify'\n",
       "top1: 1.0\n",
       "top5: 1.0"
      ]
     },
     "execution_count": 4,
     "metadata": {},
     "output_type": "execute_result"
    }
   ],
   "source": [
    "model.train(resume=True, epochs=12)"
   ]
  },
  {
   "cell_type": "markdown",
   "id": "a07a7f80-e8b4-455e-bb81-cd3817e7b699",
   "metadata": {
    "jp-MarkdownHeadingCollapsed": true
   },
   "source": [
    "## test ML Model"
   ]
  },
  {
   "cell_type": "code",
   "execution_count": 8,
   "id": "8c45d5e5-7487-46be-b744-759837f10687",
   "metadata": {},
   "outputs": [],
   "source": [
    "import uuid\n",
    "import os\n",
    "import time\n",
    "import cv2\n",
    "from ultralytics import YOLO\n",
    "import numpy as np\n",
    "import pandas as pd"
   ]
  },
  {
   "cell_type": "code",
   "execution_count": 4,
   "id": "fea46655-917a-44fe-be96-ecc359d16935",
   "metadata": {},
   "outputs": [],
   "source": [
    "import cv2\n",
    "import numpy as np\n",
    "from ultralytics import YOLO\n",
    "\n",
    "model = YOLO(\"runs/classify/train/weights/best.pt\")   # change path\n",
    "# Find index of \"drowsy\" class (or just set DROWSY_IDX = 1 if you know it)\n",
    "DROWSY_IDX = [k for k,v in model.names.items() if v == \"drowsy\"][0]\n",
    "\n",
    "THRESH = 0.75\n",
    "\n",
    "cap = cv2.VideoCapture(0)\n",
    "if not cap.isOpened():\n",
    "    raise RuntimeError(\"No webcam\")\n",
    "\n",
    "while cap.isOpened():\n",
    "    ret, frame = cap.read()\n",
    "    if not ret:\n",
    "        break\n",
    "\n",
    "    r = model(frame, imgsz=224, verbose=False)[0]\n",
    "    p_drowsy = float(r.probs.data[DROWSY_IDX])\n",
    "\n",
    "    # Text color & optional red tint if over threshold\n",
    "    if p_drowsy > THRESH:\n",
    "        # translucent red overlay\n",
    "        overlay = frame.copy()\n",
    "        overlay[:] = (0, 0, 255)\n",
    "        cv2.addWeighted(overlay, 0.25, frame, 0.75, 0, frame)\n",
    "        text_color = (0, 0, 255)\n",
    "    else:\n",
    "        text_color = (0, 255, 0)\n",
    "\n",
    "    cv2.putText(frame, f\"drowsy: {p_drowsy:.2f}\", (20, 40),\n",
    "                cv2.FONT_HERSHEY_SIMPLEX, 1, text_color, 2)\n",
    "\n",
    "    cv2.imshow(\"YOLO\", frame)\n",
    "\n",
    "    if cv2.waitKey(1) & 0xFF == ord('q'):\n",
    "        break\n",
    "\n",
    "cap.release()\n",
    "cv2.destroyAllWindows()\n"
   ]
  },
  {
   "cell_type": "code",
   "execution_count": null,
   "id": "534303bd-7f24-49b2-a15d-0cd78b82a11a",
   "metadata": {},
   "outputs": [],
   "source": []
  },
  {
   "cell_type": "markdown",
   "id": "2745058a-b8a0-461d-b61e-6b32a697f487",
   "metadata": {
    "jp-MarkdownHeadingCollapsed": true
   },
   "source": [
    "## Compress Model into a TF lite model "
   ]
  },
  {
   "cell_type": "markdown",
   "id": "92c07e72-ee3c-493f-aa24-91b8779d36cd",
   "metadata": {},
   "source": [
    "### First im doing an analysis on the total storage size of my current model"
   ]
  },
  {
   "cell_type": "code",
   "execution_count": 2,
   "id": "66ae810b-9c4a-4f0f-b90c-7d6edff8fd60",
   "metadata": {},
   "outputs": [
    {
     "name": "stdout",
     "output_type": "stream",
     "text": [
      "3.04 MB\n"
     ]
    }
   ],
   "source": [
    "import os\n",
    "path = \"runs/classify/train/weights/best.pt\"\n",
    "print(f\"{os.path.getsize(path)/1024/1024:.2f} MB\")  "
   ]
  },
  {
   "cell_type": "markdown",
   "id": "7de53764-6e2d-43ac-bcd8-7c3d76069a21",
   "metadata": {},
   "source": [
    "So the current model size is 3.04 MB. lets see how much RAM we are using"
   ]
  },
  {
   "cell_type": "code",
   "execution_count": 3,
   "id": "f56165f5-9f48-47b6-9082-9d82328ae89e",
   "metadata": {},
   "outputs": [
    {
     "name": "stdout",
     "output_type": "stream",
     "text": [
      "Baseline (rss/uss): 475.9/390.2 MB\n",
      "After model load:   477.1/391.9 MB  (+1.2 / +1.7)\n",
      "After 1st infer:     502.6/417.5 MB  (+25.6 / +25.6)\n",
      "Approx model RAM: 26.7 MB rss / 27.3 MB uss\n"
     ]
    }
   ],
   "source": [
    "import os, psutil, cv2, torch\n",
    "from ultralytics import YOLO\n",
    "\n",
    "proc = psutil.Process(os.getpid())\n",
    "MB = 1024**2\n",
    "def mem_mb():\n",
    "    m = proc.memory_full_info()    # has rss + uss; uss ~= truly private bytes\n",
    "    return m.rss/MB, m.uss/MB\n",
    "\n",
    "# ---- baseline: Python + OpenCV capture only ----\n",
    "cap = cv2.VideoCapture(0)\n",
    "rss0, uss0 = mem_mb()\n",
    "print(f\"Baseline (rss/uss): {rss0:.1f}/{uss0:.1f} MB\")\n",
    "\n",
    "# ---- load model ----\n",
    "torch.set_grad_enabled(False)\n",
    "model = YOLO(\"runs/classify/train/weights/best.pt\")\n",
    "rss1, uss1 = mem_mb()\n",
    "print(f\"After model load:   {rss1:.1f}/{uss1:.1f} MB  (+{rss1-rss0:.1f} / +{uss1-uss0:.1f})\")\n",
    "\n",
    "# ---- allocate inference buffers (warm up once) ----\n",
    "ret, frame = cap.read()\n",
    "_ = model(frame, imgsz=224, verbose=False)[0]\n",
    "rss2, uss2 = mem_mb()\n",
    "print(f\"After 1st infer:     {rss2:.1f}/{uss2:.1f} MB  (+{rss2-rss1:.1f} / +{uss2-uss1:.1f})\")\n",
    "\n",
    "model_ram_rss = rss2 - rss0   # rough “model cost” including buffers\n",
    "model_ram_uss = uss2 - uss0\n",
    "print(f\"Approx model RAM: {model_ram_rss:.1f} MB rss / {model_ram_uss:.1f} MB uss\")\n",
    "\n",
    "\n"
   ]
  },
  {
   "cell_type": "markdown",
   "id": "a34cc84e-ff97-478e-b599-3c7ddead017e",
   "metadata": {},
   "source": [
    "it seems as if I am getting around a max of 35MB usage for just the model and a total max of 900MB for running inference with everything.Just for torch, openCV, and my model its about 450MB. lets see how much I can cut this down. "
   ]
  },
  {
   "cell_type": "markdown",
   "id": "067ae56f-a5fe-4230-a3b8-e6cc3f18ac90",
   "metadata": {},
   "source": [
    "### compressing into a TF lite model with 16 bit weights. For the rest of this process, I will switch to google Colab as I dont have linux/macOS and it is easiest on those OS"
   ]
  },
  {
   "cell_type": "code",
   "execution_count": null,
   "id": "2c08fe9d-94cf-461e-b897-18b7a1a8e4f7",
   "metadata": {},
   "outputs": [],
   "source": []
  }
 ],
 "metadata": {
  "kernelspec": {
   "display_name": "Python 3 (ipykernel)",
   "language": "python",
   "name": "python3"
  },
  "language_info": {
   "codemirror_mode": {
    "name": "ipython",
    "version": 3
   },
   "file_extension": ".py",
   "mimetype": "text/x-python",
   "name": "python",
   "nbconvert_exporter": "python",
   "pygments_lexer": "ipython3",
   "version": "3.10.11"
  }
 },
 "nbformat": 4,
 "nbformat_minor": 5
}
